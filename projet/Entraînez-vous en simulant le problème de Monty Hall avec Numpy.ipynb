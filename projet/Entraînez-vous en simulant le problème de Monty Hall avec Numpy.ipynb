{
 "cells": [
  {
   "cell_type": "code",
   "execution_count": 542,
   "metadata": {
    "collapsed": true
   },
   "outputs": [],
   "source": [
    "%matplotlib inline\n",
    "import matplotlib.pyplot as plt\n",
    "from random import randint\n",
    "import numpy as np\n",
    "from enum import Enum"
   ]
  },
  {
   "cell_type": "code",
   "execution_count": 543,
   "outputs": [],
   "source": [
    "class Strategie(Enum):\n",
    "    CHANGER = 1\n",
    "    GARDER = 2\n"
   ],
   "metadata": {
    "collapsed": false,
    "pycharm": {
     "name": "#%%\n"
    }
   }
  },
  {
   "cell_type": "markdown",
   "source": [
    "\n",
    "##test de la fonction random.Generator.intergers de numpy vs random.randint\n",
    "#instenciation et impression\n",
    "test1=[0,1,2]\n",
    "test2=[0,1,2]\n",
    "test3=[0,1,2]\n",
    "print(f\"test 1 : {test1}, 2 : {test2} & 3 : {test3}\")\n",
    "#definition des variables aleatoire par les deux fonctions\n",
    "rng2 = np.random.default_rng()\n",
    "rnd = randint(0,2)\n",
    "#traitement et affichages des resultats\n",
    "test1.remove(rng2.integers(3))\n",
    "test2.remove(test2[rng2.integers(3)])\n",
    "test3.remove(rnd)\n",
    "print(f\"test1 : {test1}\")\n",
    "print(f\"test2 : {test2}\")\n",
    "print(f\"test3 : {test3}\")\n"
   ],
   "metadata": {
    "collapsed": false,
    "pycharm": {
     "name": "#%% md\n",
     "is_executing": true
    }
   }
  },
  {
   "cell_type": "code",
   "source": [
    "def play_game(nb_party):\n",
    "    portes = [0, 1, 2]\n",
    "    rng = np.random\n",
    "    bonne_porte = rng.randint(3, size=nb_party)\n",
    "    choix_joueur = rng.randint(3, size=nb_party)\n",
    "    changer_choix = (bonne_porte!=choix_joueur).astype(int)\n",
    "    garder_choix = (bonne_porte==choix_joueur).astype(int)\n",
    "    return changer_choix,garder_choix"
   ],
   "metadata": {
    "collapsed": false,
    "pycharm": {
     "name": "#%%\n"
    }
   },
   "execution_count": 544,
   "outputs": []
  },
  {
   "cell_type": "code",
   "execution_count": 545,
   "outputs": [
    {
     "name": "stdout",
     "output_type": "stream",
     "text": [
      "[0 1 1 0 1 0 1 1 1 1 1 1 0 0 1]\n",
      "10\n",
      "[0 1 1 0 0 1 1 0 1 0 0 1 0 0 1]\n",
      "6\n",
      "[1 0 1 1 0 0 1 0 0 0]\n",
      "[0 1 0 0 1 1 0 1 1 1]\n"
     ]
    }
   ],
   "source": [
    "print(play_game(15)[0])\n",
    "print(play_game(15)[0].sum())\n",
    "print(play_game(15)[1])\n",
    "print(play_game(15)[1].sum())\n",
    "result = play_game(10)\n",
    "print(result[0])\n",
    "print(result[1])"
   ],
   "metadata": {
    "collapsed": false,
    "pycharm": {
     "name": "#%%\n"
    }
   }
  },
  {
   "cell_type": "code",
   "execution_count": 546,
   "outputs": [
    {
     "data": {
      "text/plain": "<BarContainer object of 2 artists>"
     },
     "execution_count": 546,
     "metadata": {},
     "output_type": "execute_result"
    },
    {
     "data": {
      "text/plain": "<Figure size 432x288 with 1 Axes>",
      "image/png": "[encoded data removed]"
     },
     "metadata": {
      "needs_background": "light"
     },
     "output_type": "display_data"
    }
   ],
   "source": [
    "nb_tour = 1000\n",
    "plt.bar([1,2],[play_game(nb_tour)[0].sum(), play_game(nb_tour)[1].sum()], tick_label=[\"changer\",\"garder\"])"
   ],
   "metadata": {
    "collapsed": false,
    "pycharm": {
     "name": "#%%\n"
    }
   }
  },
  {
   "cell_type": "code",
   "execution_count": 554,
   "outputs": [
    {
     "data": {
      "text/plain": "<Figure size 432x288 with 1 Axes>",
      "image/png": "[encoded data removed]"
     },
     "metadata": {
      "needs_background": "light"
     },
     "output_type": "display_data"
    }
   ],
   "source": [
    "nb_tour = 10000\n",
    "figure = plt.figure()\n",
    "plot = plt.scatter(range(nb_tour),play_game(nb_tour)[0].cumsum())\n",
    "plot = plt.scatter(range(nb_tour),play_game(nb_tour)[1].cumsum())"
   ],
   "metadata": {
    "collapsed": false,
    "pycharm": {
     "name": "#%%\n"
    }
   }
  },
  {
   "cell_type": "code",
   "execution_count": 548,
   "outputs": [],
   "source": [
    "def test_recursive(nb):\n",
    "    if nb == 0:\n",
    "        return nb\n",
    "    #elif test_recursive(nb) is None:\n",
    "    #    return \"End\"\n",
    "    else:\n",
    "        return nb + test_recursive(nb-1)"
   ],
   "metadata": {
    "collapsed": false,
    "pycharm": {
     "name": "#%%\n"
    }
   }
  },
  {
   "cell_type": "code",
   "execution_count": 549,
   "outputs": [
    {
     "name": "stdout",
     "output_type": "stream",
     "text": [
      "test de la fonction recursive :6\n"
     ]
    }
   ],
   "source": [
    "result = test_recursive(3)\n",
    "print(f\"test de la fonction recursive :{result}\")"
   ],
   "metadata": {
    "collapsed": false,
    "pycharm": {
     "name": "#%%\n"
    }
   }
  }
 ],
 "metadata": {
  "kernelspec": {
   "display_name": "Python 3",
   "language": "python",
   "name": "python3"
  },
  "language_info": {
   "codemirror_mode": {
    "name": "ipython",
    "version": 2
   },
   "file_extension": ".py",
   "mimetype": "text/x-python",
   "name": "python",
   "nbconvert_exporter": "python",
   "pygments_lexer": "ipython2",
   "version": "2.7.6"
  }
 },
 "nbformat": 4,
 "nbformat_minor": 0
}